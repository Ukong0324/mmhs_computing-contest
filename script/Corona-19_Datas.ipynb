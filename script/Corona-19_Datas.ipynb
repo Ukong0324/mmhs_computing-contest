{
 "cells": [
  {
   "cell_type": "code",
   "execution_count": 20,
   "metadata": {
    "scrolled": true
   },
   "outputs": [
    {
     "name": "stdout",
     "output_type": "stream",
     "text": [
      "누적 확진자 수: 148,647\n",
      " * 전일대비: 374\n",
      "누적 격리해제: 139,733\n",
      " * 전일대비: 711\n",
      "누적 격리자 수: 6,922\n",
      " * 전일대비: -341\n",
      "누적 사망자 수: 1,992\n",
      " * 전일대비: 4\n",
      "검사 현황:\n",
      " * 누적 검사 수: 10,196,470\n",
      " * 누적 검사 완료 수: 10,072,806\n",
      " * 누적 확진율: 1.5\n"
     ]
    }
   ],
   "source": [
    "# 파이썬을 이용하여 데이터 분석\n",
    "\n",
    "import requests\n",
    "import json\n",
    "\n",
    "res = requests.get('https://corona-api.xyz/api/korea')\n",
    "data = json.loads(res.text)\n",
    "\n",
    "print(f\"누적 확진자 수: {data['total']}\\n * 전일대비: {data['today']}\\n누적 격리해제: {data['recover']}\\n * 전일대비: {data['todayRecover']}\\n누적 격리자 수: {data['care']}\\n * 전일대비: {data['todayCare']}\\n누적 사망자 수: {data['death']}\\n * 전일대비: {data['todayDeath']}\\n검사 현황:\\n * 누적 검사 수: {data['totalCheck']}\\n * 누적 검사 완료 수: {data['totalChecked']}\\n * 누적 확진율: {data['percent']}\")"
   ]
  },
  {
   "cell_type": "markdown",
   "metadata": {},
   "source": [
    "## API OUTPUT\n",
    "\n",
    "```json\n",
    "{\n",
    "    \"total\": \"148,647\",\n",
    "    \"today\": \"374\",\n",
    "    \"domestic\": \"347\",\n",
    "    \"foreign\": \"27\",\n",
    "    \"recover\": \"139,733\",\n",
    "    \"todayRecover\": \"711\",\n",
    "    \"care\": \"6,922\",\n",
    "    \"todayCare\": \"-341\",\n",
    "    \"death\": \"1,992\",\n",
    "    \"todayDeath\": \"4\",\n",
    "    \"totalCheck\": \"10,196,470\",\n",
    "    \"totalChecked\": \"10,072,806\",\n",
    "    \"percent\": \"1.5\",\n",
    "    \"week\": [\n",
    "        \"601\",\n",
    "        \"611\",\n",
    "        \"556\",\n",
    "        \"563\",\n",
    "        \"452\",\n",
    "        \"399\",\n",
    "        \"374\"\n",
    "    ],\n",
    "    \"updated\": \"2021.06.15 AM 09.50.00\"\n",
    "}\n",
    "```\n",
    "> 모든 데이터의 기준은 당일 기준 0시 (오전 12시) 입니다."
   ]
  },
  {
   "cell_type": "code",
   "execution_count": 21,
   "metadata": {},
   "outputs": [
    {
     "name": "stdout",
     "output_type": "stream",
     "text": [
      "남성 현황\n",
      " * 확진자 수: 74,457\n",
      " * 사망자 수: 984\n",
      " * 치명률: 1.32\n",
      "여성 현황\n",
      " * 확진자 수: 73,816\n",
      " * 사망자 수: 1,004\n",
      " * 치명률: 1.36\n"
     ]
    }
   ],
   "source": [
    "# 파이썬을 이용하여 데이터 분석\n",
    "\n",
    "import requests\n",
    "import json\n",
    "\n",
    "res = requests.get('https://corona-api.xyz/api/gender')\n",
    "data = json.loads(res.text)\n",
    "\n",
    "man = data['man']\n",
    "women = data['women']\n",
    "\n",
    "print(f\"남성 현황\\n * 확진자 수: {man['total']}\\n * 사망자 수: {man['dead']}\\n * 치명률: {man['critical']}\\n여성 현황\\n * 확진자 수: {women['total']}\\n * 사망자 수: {women['dead']}\\n * 치명률: {women['critical']}\")"
   ]
  },
  {
   "cell_type": "markdown",
   "metadata": {},
   "source": [
    "## API OUTPUT\n",
    "\n",
    "```json\n",
    "{\n",
    "    \"man\": {\n",
    "        \"total\": \"74,457\",\n",
    "        \"dead\": \"984\",\n",
    "        \"critical\": \"1.32\"\n",
    "    },\n",
    "    \"women\": {\n",
    "        \"total\": \"73,816\",\n",
    "        \"dead\": \"1,004\",\n",
    "        \"critical\": \"1.36\"\n",
    "    },\n",
    "    \"updated\": \"2021.06.15 AM 09.50.00\"\n",
    "}\n",
    "```\n",
    "\n",
    "> 모든 데이터의 기준은 당일 기준 0시 (오전 12시) 입니다."
   ]
  },
  {
   "cell_type": "code",
   "execution_count": 26,
   "metadata": {},
   "outputs": [
    {
     "name": "stdout",
     "output_type": "stream",
     "text": [
      "시도별 확진현황을 확인해보고 싶은 지역을 입력해주세요.서울\n",
      "전일대비 현황\n",
      "  * 확진자: 201\n",
      "  * 국내: 199\n",
      "  * 해외유입: 2\n",
      "\n",
      "확진 현황\n",
      "  * 누적 확진환자: 46,932\n",
      "  * 누적 격리중: 2,531\n",
      "  * 누적 격리해제: 43,898\n",
      "  * 누적 사망자: 503\n"
     ]
    }
   ],
   "source": [
    "# 파이썬을 이용하여 데이터 분석\n",
    "\n",
    "import requests\n",
    "import json\n",
    "\n",
    "res = requests.get('https://corona-api.xyz/api/city')\n",
    "data = json.loads(res.text)\n",
    "\n",
    "\n",
    "city = input(\"시도별 확진현황을 확인해보고 싶은 지역을 입력해주세요: \")\n",
    "\n",
    "\n",
    "# 지역 이름을 딕셔너리로 생성\n",
    "citys = {\n",
    "    \"서울\": \"seoul\",\n",
    "    \"부산\": \"busan\",\n",
    "    \"대전\": \"daegu\",\n",
    "    \"인천\": \"busan\",\n",
    "    \"광주\": \"incheon\",\n",
    "    \"부산\": \"gwangju\",\n",
    "    \"대전\": \"daejeon\",\n",
    "    \"울산\": \"ulsan\",\n",
    "    \"세종\": \"sejong\",\n",
    "    \"경기\": \"gyeonggi\",\n",
    "    \"강원\": \"gangwon\",\n",
    "    \"충북\": \"chungbuk\",\n",
    "    \"충남\": \"chungnam\",\n",
    "    \"전북\": \"jeollabuk\",\n",
    "    \"전남\t\": \"jeollanam\",\n",
    "    \"경북\": \"gyeongbuk\",\n",
    "    \"경남\": \"gyeongnam\",\n",
    "    \"제주\": \"jeju\"\n",
    "}\n",
    "\n",
    "resp_today = data[citys[city]]['today']\n",
    "resp = data[citys[city]]\n",
    "\n",
    "print(f\"전일대비 현황\\n  * 확진자: {resp_today['total']}\\n  * 국내: {resp_today['domestic']}\\n  * 해외유입: {resp_today['foreign']}\\n\\n확진 현황\\n  * 누적 확진환자: {resp['total']}\\n  * 누적 격리중: {resp['care']}\\n  * 누적 격리해제: {resp['recover']}\\n  * 누적 사망자: {resp['death']}\")\n"
   ]
  },
  {
   "cell_type": "code",
   "execution_count": null,
   "metadata": {},
   "outputs": [],
   "source": []
  }
 ],
 "metadata": {
  "kernelspec": {
   "display_name": "Python 3",
   "language": "python",
   "name": "python3"
  },
  "language_info": {
   "codemirror_mode": {
    "name": "ipython",
    "version": 3
   },
   "file_extension": ".py",
   "mimetype": "text/x-python",
   "name": "python",
   "nbconvert_exporter": "python",
   "pygments_lexer": "ipython3",
   "version": "3.8.5"
  }
 },
 "nbformat": 4,
 "nbformat_minor": 5
}
