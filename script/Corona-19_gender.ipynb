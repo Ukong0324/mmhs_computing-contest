{
 "cells": [
  {
   "cell_type": "code",
   "execution_count": 0,
   "id": "0567d54d",
   "metadata": {},
   "outputs": [
    {
     "data": {
      "image/png": "[encoded data removed]",
      "text/plain": [
       "<Figure size 432x288 with 1 Axes>"
      ]
     },
     "metadata": {},
     "output_type": "display_data"
    }
   ],
   "source": [
    "import requests\n",
    "import json\n",
    "import matplotlib.pyplot as plt\n",
    "import numpy as np\n",
    "\n",
    "# API 서버에 GET으로 요청\n",
    "res = requests.get(\"https://corona-api.xyz/api/gender\")\n",
    "# 요청한 데이터를 json 즉 dictionary로 변형\n",
    "data = json.loads(res.text)\n",
    "\n",
    "# 남녀 데이터를 정수로 변환, 해당 문자열에 ,가 있어 replace함\n",
    "man = int(data['man']['total'].replace(\",\", \"\"))\n",
    "women = int(data['women']['total'].replace(\",\", \"\"))\n",
    "\n",
    "# datas 라는 변수를 생성하여 man, women를 리스트에 넣음\n",
    "datas = np.array([man, women])\n",
    "# 차트에 사용할 색상 지정 (Hex)\n",
    "colors = [\"#429bf5\", \"#f542e3\"]\n",
    "\n",
    "# 폰트 지정 (맑은 고딕)\n",
    "plt.rc('font', family ='Malgun Gothic')\n",
    "# background 색상을 하얀색으로 변경\n",
    "plt.rcParams['figure.facecolor'] = 'FFFFFF'\n",
    "\n",
    "\"\"\"\n",
    "차트 형식을 pie로 지정\n",
    "autopct: 파이 조각의 전체 대비 백분율 (소수점 첫째자리까지)\n",
    "startangle: 파이 조각 시작 위치 (90 = 12시 방향)\n",
    "\"\"\"\n",
    "plt.pie(datas, labels = [\"남\", \"여\"], autopct='%.1f%%', startangle = 90, colors = colors)\n",
    "# 제목\n",
    "plt.title(\"코로나19 성별 확진자 현황\")\n",
    "# 범례\n",
    "plt.legend()\n",
    "# 해당 파일명으로 이미지 반환\n",
    "plt.savefig('./images/COVID-19_gender.png', dpi = 400)"
   ]
  },
  {
   "cell_type": "code",
   "execution_count": null,
   "id": "772582e6",
   "metadata": {},
   "outputs": [],
   "source": []
  }
 ],
 "metadata": {
  "kernelspec": {
   "display_name": "Python 3",
   "language": "python",
   "name": "python3"
  },
  "language_info": {
   "codemirror_mode": {
    "name": "ipython",
    "version": 3
   },
   "file_extension": ".py",
   "mimetype": "text/x-python",
   "name": "python",
   "nbconvert_exporter": "python",
   "pygments_lexer": "ipython3",
   "version": "3.8.8"
  }
 },
 "nbformat": 4,
 "nbformat_minor": 5
}
